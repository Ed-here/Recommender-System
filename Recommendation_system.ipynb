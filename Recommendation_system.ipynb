{
  "cells": [
    {
      "cell_type": "markdown",
      "metadata": {
        "colab_type": "text",
        "id": "view-in-github"
      },
      "source": [
        "<a href=\"https://colab.research.google.com/github/Ed-here/Recommender-System/blob/main/Recommendation_system.ipynb\" target=\"_parent\"><img src=\"https://colab.research.google.com/assets/colab-badge.svg\" alt=\"Open In Colab\"/></a>"
      ]
    },
    {
      "cell_type": "code",
      "execution_count": 3,
      "metadata": {
        "colab": {
          "base_uri": "https://localhost:8080/"
        },
        "id": "_o1ywt2RqLNZ",
        "outputId": "91f31edd-cbbe-4f66-dfe6-0a344cb51bc9"
      },
      "outputs": [
        {
          "name": "stdout",
          "output_type": "stream",
          "text": [
            "🖥️  Running in local environment (VS Code/Jupyter)\n",
            "ℹ️  Build tools should already be available on your system\n"
          ]
        }
      ],
      "source": [
        "# Environment-specific setup for LightFM compilation\n",
        "try:\n",
        "    # Check if in Google Colab (Linux environment)\n",
        "    import google.colab\n",
        "    print(\"🔧 Setting up Colab environment...\")\n",
        "    !apt-get install -y build-essential\n",
        "    print(\"✅ Build tools installed successfully!\")\n",
        "except ImportError:\n",
        "    # Running locally (VS Code, Jupyter, etc.)\n",
        "    print(\"🖥️  Running in local environment (VS Code/Jupyter)\")\n",
        "    print(\"ℹ️  Build tools should already be available on your system\")\n",
        "    # For Windows users: Visual Studio Build Tools or MinGW should be installed\n",
        "    # For Mac users: Xcode Command Line Tools should be installed"
      ]
    },
    {
      "cell_type": "code",
      "execution_count": 4,
      "metadata": {
        "colab": {
          "base_uri": "https://localhost:8080/"
        },
        "id": "oyBayjcq3T_g",
        "outputId": "3125c195-5883-4c1a-9978-dd55618ed2a3"
      },
      "outputs": [
        {
          "name": "stdout",
          "output_type": "stream",
          "text": [
            "Requirement already satisfied: lightfm in c:\\users\\edwin\\appdata\\local\\programs\\python\\python311\\lib\\site-packages (1.17)\n",
            "Requirement already satisfied: numpy in c:\\users\\edwin\\appdata\\local\\programs\\python\\python311\\lib\\site-packages (from lightfm) (2.3.3)\n",
            "Requirement already satisfied: scipy>=0.17.0 in c:\\users\\edwin\\appdata\\local\\programs\\python\\python311\\lib\\site-packages (from lightfm) (1.16.2)\n",
            "Requirement already satisfied: requests in c:\\users\\edwin\\appdata\\local\\programs\\python\\python311\\lib\\site-packages (from lightfm) (2.32.5)\n",
            "Requirement already satisfied: scikit-learn in c:\\users\\edwin\\appdata\\local\\programs\\python\\python311\\lib\\site-packages (from lightfm) (1.7.2)\n",
            "Requirement already satisfied: charset_normalizer<4,>=2 in c:\\users\\edwin\\appdata\\local\\programs\\python\\python311\\lib\\site-packages (from requests->lightfm) (3.4.3)\n",
            "Requirement already satisfied: idna<4,>=2.5 in c:\\users\\edwin\\appdata\\local\\programs\\python\\python311\\lib\\site-packages (from requests->lightfm) (3.10)\n",
            "Requirement already satisfied: urllib3<3,>=1.21.1 in c:\\users\\edwin\\appdata\\local\\programs\\python\\python311\\lib\\site-packages (from requests->lightfm) (2.5.0)\n",
            "Requirement already satisfied: certifi>=2017.4.17 in c:\\users\\edwin\\appdata\\local\\programs\\python\\python311\\lib\\site-packages (from requests->lightfm) (2025.8.3)\n",
            "Requirement already satisfied: joblib>=1.2.0 in c:\\users\\edwin\\appdata\\local\\programs\\python\\python311\\lib\\site-packages (from scikit-learn->lightfm) (1.5.2)\n",
            "Requirement already satisfied: threadpoolctl>=3.1.0 in c:\\users\\edwin\\appdata\\local\\programs\\python\\python311\\lib\\site-packages (from scikit-learn->lightfm) (3.6.0)\n",
            "Note: you may need to restart the kernel to use updated packages.\n",
            "📦 LightFM installation completed!\n"
          ]
        }
      ],
      "source": [
        "# Install LightFM - works in both Colab and local environments\n",
        "%pip install lightfm\n",
        "print(\"📦 LightFM installation completed!\")"
      ]
    },
    {
      "cell_type": "code",
      "execution_count": null,
      "metadata": {
        "id": "3N2uveNb3T_i",
        "outputId": "adf9e82d-67e6-41c5-994d-80c324753f38"
      },
      "outputs": [
        {
          "name": "stdout",
          "output_type": "stream",
          "text": [
            "LightFM installed and ready!\n"
          ]
        },
        {
          "name": "stderr",
          "output_type": "stream",
          "text": [
            "c:\\Users\\edwin\\AppData\\Local\\Programs\\Python\\Python311\\Lib\\site-packages\\lightfm\\_lightfm_fast.py:9: UserWarning: LightFM was compiled without OpenMP support. Only a single thread will be used.\n",
            "  warnings.warn(\n"
          ]
        }
      ],
      "source": [
        "from lightfm import LightFM\n",
        "\n",
        "model = LightFM()\n",
        "print(\"LightFM installed and ready!\")\n"
      ]
    },
    {
      "cell_type": "code",
      "execution_count": 6,
      "metadata": {
        "colab": {
          "base_uri": "https://localhost:8080/"
        },
        "id": "lqb3QlzI3T_j",
        "outputId": "aaaa251e-d5cd-4100-a012-c6846cac770f"
      },
      "outputs": [
        {
          "name": "stdout",
          "output_type": "stream",
          "text": [
            "📁 Using data path: /content/u.data\n",
            "✅ Dataset loaded successfully!\n",
            "Dataset shape: (100000, 4)\n",
            "\n",
            "First 5 rows:\n",
            "   user_id  item_id  rating  timestamp\n",
            "0      196      242       3  881250949\n",
            "1      186      302       3  891717742\n",
            "2       22      377       1  878887116\n",
            "3      244       51       2  880606923\n",
            "4      166      346       1  886397596\n",
            "\n",
            "Dataset info:\n",
            "Number of unique users: 943\n",
            "Number of unique movies: 1682\n",
            "Rating range: 1 - 5\n"
          ]
        }
      ],
      "source": [
        "import pandas as pd\n",
        "import numpy as np\n",
        "import os\n",
        "\n",
        "# Auto-detect environment and set appropriate data path\n",
        "def get_data_path():\n",
        "    # Check if running in Google Colab\n",
        "    try:\n",
        "        import google.colab\n",
        "        return \"/content/u.data\"  # Colab path\n",
        "    except ImportError:\n",
        "        # Running locally (VS Code, Jupyter, etc.)\n",
        "        local_path = r\"C:\\Users\\edwin\\dataset movies\\ml-100k\\u.data\"\n",
        "        if os.path.exists(local_path):\n",
        "            return local_path\n",
        "        else:\n",
        "            # Alternative local paths to try\n",
        "            alternative_paths = [\n",
        "                \"ml-100k/u.data\",\n",
        "                \"dataset/u.data\",\n",
        "                \"data/u.data\"\n",
        "            ]\n",
        "            for path in alternative_paths:\n",
        "                if os.path.exists(path):\n",
        "                    return path\n",
        "\n",
        "            print(\"⚠️  Dataset not found!\")\n",
        "            print(\"Please ensure the u.data file is available at one of these locations:\")\n",
        "            print(\"- For Colab: /content/u.data\")\n",
        "            print(\"- For local: C:\\\\Users\\\\edwin\\\\dataset movies\\\\ml-100k\\\\u.data\")\n",
        "            print(\"- Or place it in: ml-100k/u.data, dataset/u.data, or data/u.data\")\n",
        "            return None\n",
        "\n",
        "# Get the appropriate data path\n",
        "data_path = get_data_path()\n",
        "\n",
        "if data_path:\n",
        "    print(f\"📁 Using data path: {data_path}\")\n",
        "\n",
        "    # Load the MovieLens 100k dataset\n",
        "    # The u.data file contains: user_id, item_id, rating, timestamp (tab-separated)\n",
        "    column_names = ['user_id', 'item_id', 'rating', 'timestamp']\n",
        "\n",
        "    try:\n",
        "        ratings_df = pd.read_csv(data_path, sep='\\t', names=column_names)\n",
        "\n",
        "        print(\"✅ Dataset loaded successfully!\")\n",
        "        print(f\"Dataset shape: {ratings_df.shape}\")\n",
        "        print(\"\\nFirst 5 rows:\")\n",
        "        print(ratings_df.head())\n",
        "        print(\"\\nDataset info:\")\n",
        "        print(f\"Number of unique users: {ratings_df['user_id'].nunique()}\")\n",
        "        print(f\"Number of unique movies: {ratings_df['item_id'].nunique()}\")\n",
        "        print(f\"Rating range: {ratings_df['rating'].min()} - {ratings_df['rating'].max()}\")\n",
        "\n",
        "    except FileNotFoundError:\n",
        "        print(f\"❌ File not found at: {data_path}\")\n",
        "        print(\"Please check if the file exists and the path is correct.\")\n",
        "    except Exception as e:\n",
        "        print(f\"❌ Error loading dataset: {e}\")\n",
        "else:\n",
        "    print(\"❌ Cannot proceed without dataset. Please upload/place the u.data file in the correct location.\")"
      ]
    },
    {
      "cell_type": "code",
      "execution_count": null,
      "metadata": {
        "colab": {
          "base_uri": "https://localhost:8080/"
        },
        "id": "K9ec7wQ74CYi",
        "outputId": "860efeb9-5e77-4b19-c2b5-db732a723af1"
      },
      "outputs": [
        {
          "name": "stdout",
          "output_type": "stream",
          "text": [
            "hello\n"
          ]
        }
      ],
      "source": [
        "print(\"hello\")"
      ]
    }
  ],
  "metadata": {
    "colab": {
      "include_colab_link": true,
      "provenance": []
    },
    "kernelspec": {
      "display_name": "Python 3",
      "name": "python3"
    },
    "language_info": {
      "codemirror_mode": {
        "name": "ipython",
        "version": 3
      },
      "file_extension": ".py",
      "mimetype": "text/x-python",
      "name": "python",
      "nbconvert_exporter": "python",
      "pygments_lexer": "ipython3",
      "version": "3.11.9"
    }
  },
  "nbformat": 4,
  "nbformat_minor": 0
}

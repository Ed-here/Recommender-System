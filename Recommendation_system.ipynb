{
 "cells": [
  {
   "cell_type": "markdown",
   "metadata": {
    "colab_type": "text",
    "id": "view-in-github"
   },
   "source": [
    "<a href=\"https://colab.research.google.com/github/Ed-here/Recommender-System/blob/main/Recommendation_system.ipynb\" target=\"_parent\"><img src=\"https://colab.research.google.com/assets/colab-badge.svg\" alt=\"Open In Colab\"/></a>"
   ]
  },
  {
   "cell_type": "code",
   "execution_count": null,
   "metadata": {
    "colab": {
     "base_uri": "https://localhost:8080/"
    },
    "id": "_o1ywt2RqLNZ",
    "outputId": "91f31edd-cbbe-4f66-dfe6-0a344cb51bc9"
   },
   "outputs": [
    {
     "name": "stdout",
     "output_type": "stream",
     "text": [
      "Reading package lists... Done\n",
      "Building dependency tree... Done\n",
      "Reading state information... Done\n",
      "build-essential is already the newest version (12.9ubuntu3).\n",
      "0 upgraded, 0 newly installed, 0 to remove and 35 not upgraded.\n"
     ]
    }
   ],
   "source": [
    "!apt-get install -y build-essential\n",
    "\n",
    "\n"
   ]
  },
  {
   "cell_type": "code",
   "execution_count": null,
   "metadata": {},
   "outputs": [
    {
     "name": "stdout",
     "output_type": "stream",
     "text": [
      "Requirement already satisfied: lightfm in c:\\users\\edwin\\appdata\\local\\programs\\python\\python311\\lib\\site-packages (1.17)\n",
      "Requirement already satisfied: numpy in c:\\users\\edwin\\appdata\\local\\programs\\python\\python311\\lib\\site-packages (from lightfm) (2.3.3)\n",
      "Requirement already satisfied: scipy>=0.17.0 in c:\\users\\edwin\\appdata\\local\\programs\\python\\python311\\lib\\site-packages (from lightfm) (1.16.2)\n",
      "Requirement already satisfied: requests in c:\\users\\edwin\\appdata\\local\\programs\\python\\python311\\lib\\site-packages (from lightfm) (2.32.5)\n",
      "Requirement already satisfied: scikit-learn in c:\\users\\edwin\\appdata\\local\\programs\\python\\python311\\lib\\site-packages (from lightfm) (1.7.2)\n",
      "Requirement already satisfied: charset_normalizer<4,>=2 in c:\\users\\edwin\\appdata\\local\\programs\\python\\python311\\lib\\site-packages (from requests->lightfm) (3.4.3)\n",
      "Requirement already satisfied: idna<4,>=2.5 in c:\\users\\edwin\\appdata\\local\\programs\\python\\python311\\lib\\site-packages (from requests->lightfm) (3.10)\n",
      "Requirement already satisfied: urllib3<3,>=1.21.1 in c:\\users\\edwin\\appdata\\local\\programs\\python\\python311\\lib\\site-packages (from requests->lightfm) (2.5.0)\n",
      "Requirement already satisfied: certifi>=2017.4.17 in c:\\users\\edwin\\appdata\\local\\programs\\python\\python311\\lib\\site-packages (from requests->lightfm) (2025.8.3)\n",
      "Requirement already satisfied: joblib>=1.2.0 in c:\\users\\edwin\\appdata\\local\\programs\\python\\python311\\lib\\site-packages (from scikit-learn->lightfm) (1.5.2)\n",
      "Requirement already satisfied: threadpoolctl>=3.1.0 in c:\\users\\edwin\\appdata\\local\\programs\\python\\python311\\lib\\site-packages (from scikit-learn->lightfm) (3.6.0)\n",
      "Note: you may need to restart the kernel to use updated packages.\n"
     ]
    }
   ],
   "source": [
    "%pip install lightfm\n"
   ]
  },
  {
   "cell_type": "code",
   "execution_count": 2,
   "metadata": {},
   "outputs": [
    {
     "name": "stdout",
     "output_type": "stream",
     "text": [
      "LightFM installed and ready!\n"
     ]
    }
   ],
   "source": [
    "from lightfm import LightFM\n",
    "\n",
    "model = LightFM()\n",
    "print(\"LightFM installed and ready!\")\n"
   ]
  },
  {
   "cell_type": "code",
   "execution_count": null,
   "metadata": {},
   "outputs": [],
   "source": []
  }
 ],
 "metadata": {
  "colab": {
   "authorship_tag": "ABX9TyNjUpFLTKtuEV+RC+mWW2OS",
   "include_colab_link": true,
   "provenance": []
  },
  "kernelspec": {
   "display_name": "Python 3",
   "name": "python3"
  },
  "language_info": {
   "codemirror_mode": {
    "name": "ipython",
    "version": 3
   },
   "file_extension": ".py",
   "mimetype": "text/x-python",
   "name": "python",
   "nbconvert_exporter": "python",
   "pygments_lexer": "ipython3",
   "version": "3.11.9"
  }
 },
 "nbformat": 4,
 "nbformat_minor": 0
}

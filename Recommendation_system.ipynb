{
 "cells": [
  {
   "cell_type": "markdown",
   "metadata": {
    "colab_type": "text",
    "id": "view-in-github"
   },
   "source": [
    "<a href=\"https://colab.research.google.com/github/Ed-here/Recommender-System/blob/main/Recommendation_system.ipynb\" target=\"_parent\"><img src=\"https://colab.research.google.com/assets/colab-badge.svg\" alt=\"Open In Colab\"/></a>"
   ]
  },
  {
   "cell_type": "code",
   "execution_count": null,
   "metadata": {
    "colab": {
     "base_uri": "https://localhost:8080/"
    },
    "id": "_o1ywt2RqLNZ",
    "outputId": "91f31edd-cbbe-4f66-dfe6-0a344cb51bc9"
   },
   "outputs": [
    {
     "name": "stdout",
     "output_type": "stream",
     "text": [
      "Reading package lists... Done\n",
      "Building dependency tree... Done\n",
      "Reading state information... Done\n",
      "build-essential is already the newest version (12.9ubuntu3).\n",
      "0 upgraded, 0 newly installed, 0 to remove and 35 not upgraded.\n"
     ]
    }
   ],
   "source": [
    "!apt-get install -y build-essential\n",
    "\n",
    "\n"
   ]
  },
  {
   "cell_type": "code",
   "execution_count": null,
   "metadata": {},
   "outputs": [
    {
     "name": "stdout",
     "output_type": "stream",
     "text": [
      "Requirement already satisfied: lightfm in c:\\users\\edwin\\appdata\\local\\programs\\python\\python311\\lib\\site-packages (1.17)\n",
      "Requirement already satisfied: numpy in c:\\users\\edwin\\appdata\\local\\programs\\python\\python311\\lib\\site-packages (from lightfm) (2.3.3)\n",
      "Requirement already satisfied: scipy>=0.17.0 in c:\\users\\edwin\\appdata\\local\\programs\\python\\python311\\lib\\site-packages (from lightfm) (1.16.2)\n",
      "Requirement already satisfied: requests in c:\\users\\edwin\\appdata\\local\\programs\\python\\python311\\lib\\site-packages (from lightfm) (2.32.5)\n",
      "Requirement already satisfied: scikit-learn in c:\\users\\edwin\\appdata\\local\\programs\\python\\python311\\lib\\site-packages (from lightfm) (1.7.2)\n",
      "Requirement already satisfied: charset_normalizer<4,>=2 in c:\\users\\edwin\\appdata\\local\\programs\\python\\python311\\lib\\site-packages (from requests->lightfm) (3.4.3)\n",
      "Requirement already satisfied: idna<4,>=2.5 in c:\\users\\edwin\\appdata\\local\\programs\\python\\python311\\lib\\site-packages (from requests->lightfm) (3.10)\n",
      "Requirement already satisfied: urllib3<3,>=1.21.1 in c:\\users\\edwin\\appdata\\local\\programs\\python\\python311\\lib\\site-packages (from requests->lightfm) (2.5.0)\n",
      "Requirement already satisfied: certifi>=2017.4.17 in c:\\users\\edwin\\appdata\\local\\programs\\python\\python311\\lib\\site-packages (from requests->lightfm) (2025.8.3)\n",
      "Requirement already satisfied: joblib>=1.2.0 in c:\\users\\edwin\\appdata\\local\\programs\\python\\python311\\lib\\site-packages (from scikit-learn->lightfm) (1.5.2)\n",
      "Requirement already satisfied: threadpoolctl>=3.1.0 in c:\\users\\edwin\\appdata\\local\\programs\\python\\python311\\lib\\site-packages (from scikit-learn->lightfm) (3.6.0)\n",
      "Note: you may need to restart the kernel to use updated packages.\n"
     ]
    }
   ],
   "source": [
    "%pip install lightfm\n"
   ]
  },
  {
   "cell_type": "code",
   "execution_count": 1,
   "metadata": {},
   "outputs": [
    {
     "name": "stdout",
     "output_type": "stream",
     "text": [
      "LightFM installed and ready!\n"
     ]
    },
    {
     "name": "stderr",
     "output_type": "stream",
     "text": [
      "c:\\Users\\edwin\\AppData\\Local\\Programs\\Python\\Python311\\Lib\\site-packages\\lightfm\\_lightfm_fast.py:9: UserWarning: LightFM was compiled without OpenMP support. Only a single thread will be used.\n",
      "  warnings.warn(\n"
     ]
    }
   ],
   "source": [
    "from lightfm import LightFM\n",
    "\n",
    "model = LightFM()\n",
    "print(\"LightFM installed and ready!\")\n"
   ]
  },
  {
   "cell_type": "code",
   "execution_count": null,
   "metadata": {},
   "outputs": [
    {
     "name": "stdout",
     "output_type": "stream",
     "text": [
      "Requirement already satisfied: pandas in c:\\users\\edwin\\appdata\\local\\programs\\python\\python311\\lib\\site-packages (2.3.2)\n",
      "Requirement already satisfied: numpy in c:\\users\\edwin\\appdata\\local\\programs\\python\\python311\\lib\\site-packages (2.3.3)\n",
      "Requirement already satisfied: python-dateutil>=2.8.2 in c:\\users\\edwin\\appdata\\roaming\\python\\python311\\site-packages (from pandas) (2.9.0.post0)\n",
      "Requirement already satisfied: pytz>=2020.1 in c:\\users\\edwin\\appdata\\local\\programs\\python\\python311\\lib\\site-packages (from pandas) (2025.2)\n",
      "Requirement already satisfied: tzdata>=2022.7 in c:\\users\\edwin\\appdata\\local\\programs\\python\\python311\\lib\\site-packages (from pandas) (2025.2)\n",
      "Requirement already satisfied: six>=1.5 in c:\\users\\edwin\\appdata\\roaming\\python\\python311\\site-packages (from python-dateutil>=2.8.2->pandas) (1.17.0)\n",
      "Note: you may need to restart the kernel to use updated packages.\n",
      "Dataset loaded successfully!\n",
      "Dataset shape: (100000, 4)\n",
      "\n",
      "First 5 rows:\n",
      "   user_id  item_id  rating  timestamp\n",
      "0      196      242       3  881250949\n",
      "1      186      302       3  891717742\n",
      "2       22      377       1  878887116\n",
      "3      244       51       2  880606923\n",
      "4      166      346       1  886397596\n"
     ]
    }
   ],
   "source": [
    "\n",
    "import pandas as pd\n",
    "import numpy as np\n",
    "\n",
    "# Load the MovieLens 100k dataset\n",
    "# The u.data file contains: user_id, item_id, rating, timestamp (tab-separated)\n",
    "data_path = r\"C:\\Users\\edwin\\dataset movies\\ml-100k\\u.data\"\n",
    "\n",
    "# Load the data with appropriate column names\n",
    "column_names = ['user_id', 'item_id', 'rating', 'timestamp']\n",
    "ratings_df = pd.read_csv(data_path, sep='\\t', names=column_names)\n",
    "\n",
    "print(\"Dataset loaded successfully!\")\n",
    "print(f\"Dataset shape: {ratings_df.shape}\")\n",
    "print(\"\\nFirst 5 rows:\")\n",
    "print(ratings_df.head())\n"
   ]
  }
 ],
 "metadata": {
  "colab": {
   "authorship_tag": "ABX9TyNjUpFLTKtuEV+RC+mWW2OS",
   "include_colab_link": true,
   "provenance": []
  },
  "kernelspec": {
   "display_name": "Python 3",
   "name": "python3"
  },
  "language_info": {
   "codemirror_mode": {
    "name": "ipython",
    "version": 3
   },
   "file_extension": ".py",
   "mimetype": "text/x-python",
   "name": "python",
   "nbconvert_exporter": "python",
   "pygments_lexer": "ipython3",
   "version": "3.11.9"
  }
 },
 "nbformat": 4,
 "nbformat_minor": 0
}
